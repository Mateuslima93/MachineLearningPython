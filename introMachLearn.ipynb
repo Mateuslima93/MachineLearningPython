{
 "cells": [
  {
   "cell_type": "code",
   "execution_count": 15,
   "metadata": {},
   "outputs": [],
   "source": [
    "#features (1 sim, 0 nao)\n",
    "#pelo longo? , perna curta , faz au au\n",
    "porco1 = [0,1,0]\n",
    "porco2= [0,1,1]\n",
    "porco3 = [1,1,0]\n",
    "\n",
    "cachorro1=[0,1,1]\n",
    "cachorro2=[1,0,1]\n",
    "cachorro3 = [1,1,1]\n",
    "\n",
    "treino_x=[porco1,porco2,porco3,cachorro1,cachorro2,cachorro3]\n",
    "treino_y = [1,1,1,0,0,0]\n"
   ]
  },
  {
   "cell_type": "code",
   "execution_count": 16,
   "metadata": {},
   "outputs": [],
   "source": [
    "from sklearn.svm import LinearSVC"
   ]
  },
  {
   "cell_type": "code",
   "execution_count": 17,
   "metadata": {},
   "outputs": [
    {
     "data": {
      "text/plain": [
       "LinearSVC()"
      ]
     },
     "execution_count": 17,
     "metadata": {},
     "output_type": "execute_result"
    }
   ],
   "source": [
    "model = LinearSVC()\n",
    "model.fit(treino_x,treino_y)"
   ]
  },
  {
   "cell_type": "code",
   "execution_count": 18,
   "metadata": {},
   "outputs": [
    {
     "name": "stdout",
     "output_type": "stream",
     "text": [
      "A acurácia do modelo é de 67.0\n"
     ]
    }
   ],
   "source": [
    "misterio1 = [1,1,1]\n",
    "misterio2 = [0,1,1]\n",
    "misterio3 = [0,1,0]\n",
    "teste_x= [misterio1,misterio2,misterio3]\n",
    "teste_y = [0,1,1]\n",
    "\n",
    "previsoes = model.predict(teste_x)\n",
    "\n",
    "acertos = (previsoes == teste_y).sum()\n",
    "total = len(teste_y)\n",
    "eficacia = acertos/total\n",
    "print(f'A acurácia do modelo é de {eficacia.round(2)*100}')"
   ]
  },
  {
   "cell_type": "code",
   "execution_count": 19,
   "metadata": {},
   "outputs": [],
   "source": [
    "from sklearn.metrics import accuracy_score"
   ]
  },
  {
   "cell_type": "code",
   "execution_count": 20,
   "metadata": {},
   "outputs": [
    {
     "data": {
      "text/plain": [
       "0.6666666666666666"
      ]
     },
     "execution_count": 20,
     "metadata": {},
     "output_type": "execute_result"
    }
   ],
   "source": [
    "acuracia = accuracy_score(teste_y,previsoes)\n",
    "acuracia"
   ]
  },
  {
   "cell_type": "code",
   "execution_count": null,
   "metadata": {},
   "outputs": [],
   "source": []
  }
 ],
 "metadata": {
  "kernelspec": {
   "display_name": "Python 3",
   "language": "python",
   "name": "python3"
  },
  "language_info": {
   "codemirror_mode": {
    "name": "ipython",
    "version": 3
   },
   "file_extension": ".py",
   "mimetype": "text/x-python",
   "name": "python",
   "nbconvert_exporter": "python",
   "pygments_lexer": "ipython3",
   "version": "3.8.5"
  }
 },
 "nbformat": 4,
 "nbformat_minor": 4
}
